{
 "cells": [
  {
   "cell_type": "markdown",
   "metadata": {},
   "source": [
    "<img align=\"left\" src=\"https://lever-client-logos.s3.amazonaws.com/864372b1-534c-480e-acd5-9711f850815c-1524247202159.png\" width=200>\n",
    "<br></br>\n",
    "<br></br>\n",
    "\n",
    "## *Data Science Unit 4 Sprint 3 Assignment 1*\n",
    "\n",
    "# Recurrent Neural Networks and Long Short Term Memory (LSTM)\n",
    "\n",
    "![Monkey at a typewriter](https://upload.wikimedia.org/wikipedia/commons/thumb/3/3c/Chimpanzee_seated_at_typewriter.jpg/603px-Chimpanzee_seated_at_typewriter.jpg)\n",
    "\n",
    "It is said that [infinite monkeys typing for an infinite amount of time](https://en.wikipedia.org/wiki/Infinite_monkey_theorem) will eventually type, among other things, the complete works of Wiliam Shakespeare. Let's see if we can get there a bit faster, with the power of Recurrent Neural Networks and LSTM.\n",
    "\n",
    "This text file contains the complete works of Shakespeare: https://www.gutenberg.org/files/100/100-0.txt\n",
    "\n",
    "Use it as training data for an RNN - you can keep it simple and train character level, and that is suggested as an initial approach.\n",
    "\n",
    "Then, use that trained RNN to generate Shakespearean-ish text. Your goal - a function that can take, as an argument, the size of text (e.g. number of characters or lines) to generate, and returns generated text of that size.\n",
    "\n",
    "Note - Shakespeare wrote an awful lot. It's OK, especially initially, to sample/use smaller data and parameters, so you can have a tighter feedback loop when you're trying to get things running. Then, once you've got a proof of concept - start pushing it more!"
   ]
  },
  {
   "cell_type": "code",
   "execution_count": 1,
   "metadata": {
    "colab": {},
    "colab_type": "code",
    "id": "Ltj1je1fp5rO"
   },
   "outputs": [],
   "source": [
    "import requests\n",
    "\n",
    "url = \"https://www.gutenberg.org/files/100/100-0.txt\"\n",
    "r = requests.get(url)\n",
    "r.encoding = r.apparent_encoding\n",
    "data = r.text"
   ]
  },
  {
   "cell_type": "code",
   "execution_count": 2,
   "metadata": {},
   "outputs": [
    {
     "data": {
      "text/plain": [
       "'\\r\\nProject Gutenberg’s The Complete Works of William Shakespeare, by William\\r\\nShakespeare\\r\\n\\r\\nThis eBook is for the use of anyone anywhere in the United States and\\r\\nmost other parts of the world at no cost and with almost no restrictions\\r\\nwhatsoever.  You may copy it, give it away or re-use it under the terms\\r\\nof the Project Gutenberg License included with this eBook or online at\\r\\nwww.gutenberg.org.  If you are not located in the United States, you’ll\\r\\nhave to check the laws of the country where you are located before using\\r\\nthis ebook.\\r\\n\\r\\n\\r\\nTitle: The Complete Works of William Shakespeare\\r\\n\\r\\nAuthor: William Shakespeare\\r\\n\\r\\nRelease Date: January 1994 [EBook #100]\\r\\nLast Updated: November 7, 2019\\r\\n\\r\\nLanguage: English\\r\\n\\r\\nCharacter set encoding: UTF-8\\r\\n\\r\\n*** START OF THIS PROJECT GUTENBERG EBOOK THE COMPLETE WORKS OF WILLIAM SHAKESPEARE ***\\r\\n\\r\\n\\r\\n\\r\\n\\r\\nThe Complete Works of William Shakespeare\\r\\n\\r\\n\\r\\n\\r\\nby William Shakespeare\\r\\n\\r\\n\\r\\n\\r\\n\\r\\n      Contents\\r\\n\\r\\n\\r\\n\\r\\n               THE SONNETS\\r\\n\\r\\n            '"
      ]
     },
     "execution_count": 2,
     "metadata": {},
     "output_type": "execute_result"
    }
   ],
   "source": [
    "data[:1000]"
   ]
  },
  {
   "cell_type": "code",
   "execution_count": 3,
   "metadata": {},
   "outputs": [
    {
     "data": {
      "text/plain": [
       "'his ears a heavy tale,\\r\\nAs if they heard the woeful words she told;\\r\\nShe lifts the coffer-lids that close his eyes,\\r\\nWhere lo, two lamps burnt out in darkness lies.\\r\\n\\r\\nTwo glasses where herself herself beheld            1129\\r\\nA thousand times, and now no more reflect;\\r\\nTheir virtue lost, wherein they late excell’d,\\r\\nAnd every beauty robb’d of his effect.              1132\\r\\n  “Wonder of time,” quoth she, “this is my spite,\\r\\n  That thou being dead, the day should yet be light.\\r\\n\\r\\n“Since thou art dead, lo here I prophesy,\\r\\nSorrow on love hereafter shall attend:              1136\\r\\nIt shall be waited on with jealousy,\\r\\nFind sweet beginning, but unsavoury end;\\r\\n  Ne’er settled equally, but high or low,\\r\\n  That all love’s pleasure shall not match his woe.\\r\\n\\r\\n“It shall be fickle, false and full of fraud,       1141\\r\\nBud, and be blasted in a breathing while;\\r\\nThe bottom poison, and the top o’erstraw’d\\r\\nWith sweets that shall the truest sight beguile.    1144\\r\\n  The strongest body shall it make most weak,\\r\\n  Strike the wise dumb, and teach the fool to speak.\\r\\n\\r\\n“It shall be sparing, and too full of riot,\\r\\nTeaching decrepit age to tread the measures;        1148\\r\\nThe staring ruffian shall it keep in quiet,\\r\\nPluck down the rich, enrich the poor with treasures;\\r\\n  It shall be raging mad, and silly mild,\\r\\n  Make the young old, the old become a child.       1152\\r\\n\\r\\n“It shall suspect where is no cause of fear,\\r\\nIt shall not fear where it should most mistrust;\\r\\nIt shall be merciful, and too severe,\\r\\nAnd most deceiving when it seems most just;         1156\\r\\n  Perverse it shall be, where it shows most toward,\\r\\n  Put fear to valour, courage to the coward.\\r\\n\\r\\n“It shall be cause of war and dire events,\\r\\nAnd set dissension ’twixt the son and sire;         1160\\r\\nSubject and servile to all discontents,\\r\\nAs dry combustious matter is to fire,\\r\\n  Sith in his prime death doth my love destroy,\\r\\n  They that love best their love shall not enjoy.”  1164\\r\\n\\r\\nBy this the boy that by her side lay kill’d\\r\\nWas melted like a vapour from her sight,\\r\\nAnd in his blood that on the ground lay spill’d,\\r\\nA purple flower sprung up, chequer’d with white,    1168\\r\\n  Resembling well his pale cheeks, and the blood\\r\\n  Which in round drops upon their whiteness stood.\\r\\n\\r\\nShe bows her head, the new-sprung flower to smell,\\r\\nComparing it to her Adonis’ breath;                 1172\\r\\nAnd says within her bosom it shall dwell,\\r\\nSince he himself is reft from her by death;\\r\\n  She drops the stalk, and in the breach appears\\r\\n  Green-dropping sap, which she compares to tears.\\r\\n\\r\\n“Poor flower,” quoth she, “this was thy father’s guise,\\r\\nSweet issue of a more sweet-smelling sire,\\r\\nFor every little grief to wet his eyes,\\r\\nTo grow unto himself was his desire,                1180\\r\\n  And so ’tis thine; but know, it is as good\\r\\n  To wither in my breast as in his blood.\\r\\n\\r\\n“Here was thy father’s bed, here in my breast;\\r\\nThou art the next of blood, and ’tis thy right:     1184\\r\\nLo in this hollow cradle take thy rest,\\r\\nMy throbbing heart shall rock thee day and night:\\r\\n  There shall not be one minute in an hour\\r\\n  Wherein I will not kiss my sweet love’s flower.”\\r\\n\\r\\nThus weary of the world, away she hies,             1189\\r\\nAnd yokes her silver doves; by whose swift aid\\r\\nTheir mistress mounted through the empty skies,\\r\\nIn her light chariot quickly is convey’d;           1192\\r\\n  Holding their course to Paphos, where their queen\\r\\n  Means to immure herself and not be seen.\\r\\n\\r\\n\\r\\n\\r\\n\\r\\n  FINIS\\r\\n\\r\\n\\r\\n\\r\\n\\r\\n\\r\\n\\r\\n\\r\\n\\r\\n\\r\\n\\r\\n\\r\\n\\r\\n\\r\\n* CONTENT NOTE (added in 2017) *\\r\\n\\r\\nThis Project Gutenberg eBook was originally marked as having a copyright.\\r\\nHowever, Project Gutenberg now believes that the eBook\\'s contents does\\r\\nnot actually have a copyright.\\r\\n\\r\\nThis is based on current understanding of copyright law, in which\\r\\n\"authorship\" is required to obtain a copyright.  See the \"No Sweat of\\r\\nthe Brow Copyright\" how-to at www.gutenberg.org for more details on\\r\\nthis.\\r\\n\\r\\nThis eBook was provided to Project Gutenberg by the World Library\\r\\nInc., which published a series of CDROM products called \"Library of\\r\\nthe Future\" from approximately 1991-1994.  Copyright registration\\r\\nrecords filed with the U.S. Copyright Office at the time record a\\r\\ncopyright for \"New Matter: compilation, arr., revisions and additions.\"\\r\\n\\r\\nWithin the INDIVIDUAL eBooks on the CDROM, this copyright statement\\r\\nappears: \"Electronically Enhanced Text Copyright 1991 World Library,\\r\\nInc.\"\\r\\n\\r\\nThere is no indication that the eBooks from the World Library are\\r\\nsufficiently different from known public domain sources to warrant a\\r\\nseparate copyright based on new authorship.  Digitization, markup and\\r\\nrelated activities are not authorship.  Therefore, it is the opinion\\r\\nof Project Gutenberg that this eBook is in the public domain in the\\r\\nU.S. based on there being no modern authorship that would be eligible\\r\\nfor a new copyright.\\r\\n\\r\\nProject Gutenberg offers no opinion on copyright status elsewhere.\\r\\n\\r\\nA search of the U.S. Patent and Trademark Office in December 2017\\r\\ndid not indicate current trademark registry for \"World Library\" or\\r\\n\"Library of the Future.\"\\r\\n\\r\\nFor its historical value, the original copyright statement and\\r\\ninformation about Project Gutenberg is included here.\\r\\n\\r\\n\\r\\n\"THIS ELECTRONIC VERSION OF THE COMPLETE WORKS OF WILLIAM\\r\\nSHAKESPEARE IS COPYRIGHT 1990-1993 BY WORLD LIBRARY, INC., AND IS\\r\\nPROVIDED BY PROJECT GUTENBERG ETEXT OF CARNEGIE MELLON UNIVERSITY\\r\\nWITH PERMISSION.  ELECTRONIC AND MACHINE READABLE COPIES MAY BE\\r\\nDISTRIBUTED SO LONG AS SUCH COPIES (1) ARE FOR YOUR OR OTHERS\\r\\nPERSONAL USE ONLY, AND (2) ARE NOT DISTRIBUTED OR USED\\r\\nCOMMERCIALLY.  PROHIBITED COMMERCIAL DISTRIBUTION INCLUDES BY ANY\\r\\nSERVICE THAT CHARGES FOR DOWNLOAD TIME OR FOR MEMBERSHIP.\"\\r\\n\\r\\n\\r\\n* END CONTENT NOTE *\\r\\n\\r\\n\\r\\n\\r\\n\\r\\nEnd of Project Gutenberg’s The Complete Works of William\\r\\nShakespeare, by William Shakespeare\\r\\n\\r\\n*** END OF THIS PROJECT GUTENBERG EBOOK THE COMPLETE WORKS OF WILLIAM\\r\\nSHAKESPEARE ***\\r\\n\\r\\n***** This file should be named 100-0.txt or 100-0.zip ***** This and\\r\\nall associated files of various formats will be found in:\\r\\nhttp://www.gutenberg.org/1/0/100/\\r\\n\\r\\nUpdated editions will replace the previous one--the old editions will be\\r\\nrenamed.\\r\\n\\r\\nCreating the works from print editions not protected by U.S. copyright\\r\\nlaw means that no one owns a United States copyright in these works, so\\r\\nthe Foundation (and you!) can copy and distribute it in the United\\r\\nStates without permission and without paying copyright royalties.\\r\\nSpecial rules, set forth in the General Terms of Use part of this\\r\\nlicense, apply to copying and distributing Project Gutenberg-tm\\r\\nelectronic works to protect the PROJECT GUTENBERG-tm concept and\\r\\ntrademark. Project Gutenberg is a registered trademark, and may not be\\r\\nused if you charge for the eBooks, unless you receive specific\\r\\npermission. If you do not charge anything for copies of this eBook,\\r\\ncomplying with the rules is very easy. You may use this eBook for nearly\\r\\nany purpose such as creation of derivative works, reports, performances\\r\\nand research. They may be modified and printed and given away--you may\\r\\ndo practically ANYTHING in the United States with eBooks not protected\\r\\nby U.S. copyright law. Redistribution is subject to the trademark\\r\\nlicense, especially commercial redistribution.\\r\\n\\r\\nSTART: FULL LICENSE\\r\\n\\r\\nTHE FULL PROJECT GUTENBERG LICENSE PLEASE READ THIS BEFORE YOU\\r\\nDISTRIBUTE OR USE THIS WORK\\r\\n\\r\\nTo protect the Project Gutenberg-tm mission of promoting the free\\r\\ndistribution of electronic works, by using or distributing this work (or\\r\\nany other work associated in any way with the phrase \"Project\\r\\nGutenberg\"), you agree to comply with all the terms of the Full Project\\r\\nGutenberg-tm License available with this file or online at\\r\\nwww.gutenberg.org/license.\\r\\n\\r\\nSection 1. General Terms of Use and Redistributing Project Gutenberg-tm\\r\\nelectronic works\\r\\n\\r\\n1.A. By reading or using any part of this Project Gutenberg-tm\\r\\nelectronic work, you indicate that you have read, understand, agree to\\r\\nand accept all the terms of this license and intellectual property\\r\\n(trademark/copyright) agreement. If you do not agree to abide by all the\\r\\nterms of this agreement, you must cease using and return or destroy all\\r\\ncopies of Project Gutenberg-tm electronic works in your possession. If\\r\\nyou paid a fee for obtaining a copy of or access to a Project\\r\\nGutenberg-tm electronic work and you do not agree to be bound by the\\r\\nterms of this agreement, you may obtain a refund from the person or\\r\\nentity to whom you paid the fee as set forth in paragraph 1.E.8.\\r\\n\\r\\n1.B. \"Project Gutenberg\" is a registered trademark. It may only be used\\r\\non or associated in any way with an electronic work by people who agree\\r\\nto be bound by the terms of this agreement. There are a few things that\\r\\nyou can do with most Project Gutenberg-tm electronic works even without\\r\\ncomplying with the full terms of this agreement. See paragraph 1.C\\r\\nbelow. There are a lot of things you can do with Project Gutenberg-tm\\r\\nelectronic works if you follow the terms of this agreement and help\\r\\npreserve free future access to Project Gutenberg-tm electronic works.\\r\\nSee paragraph 1.E below.\\r\\n\\r\\n1.C. The Project Gutenberg Literary Archive Foundation (\"the Foundation\"\\r\\nor PGLAF), owns a compilation copyright in the collection of Project\\r\\nGutenberg-tm electronic works. Nearly all the individual works in the\\r\\ncollection are in the public domain in the United States. If an\\r\\nindividual work is unprotected by copyright law in the United States and\\r\\nyou are located in the United States, we do not claim a right to prevent\\r\\nyou from copying, distributing, performing, displaying or creating\\r\\nderivative works based on the work as long as all references to Project\\r\\nGutenberg are removed. Of course, we hope that you will support the\\r\\nProject Gutenberg-tm mission of promoting free access to electronic\\r\\nworks by freely sharing Project Gutenberg-tm works in compliance with\\r\\nthe terms of this agreement for keeping the Project Gutenberg-tm name\\r\\nassociated with the work. You can easily comply with the terms of this\\r\\nagreement by keeping this work in the same format with its attached full\\r\\nProject Gutenberg-tm License when you share it without charge with\\r\\nothers.\\r\\n\\r\\n1.D. The copyright laws of the place where you are located also govern\\r\\nwhat you can do with this work. Copyright laws in most countries are in\\r\\na constant state of change. If you are outside the United States, check\\r\\nthe laws of your country in addition to the terms of this agreement\\r\\nbefore downloading, copying, displaying, performing, distributing or\\r\\ncreating derivative works based on this work or any other Project\\r\\nGutenberg-tm work. The Foundation makes no representations concerning\\r\\nthe copyright status of any work in any country outside the United\\r\\nStates.\\r\\n\\r\\n1.E. Unless you have removed all references to Project Gutenberg:\\r\\n\\r\\n1.E.1. The following sentence, with active links to, or other immediate\\r\\naccess to, the full Project Gutenberg-tm License must appear prominently\\r\\nwhenever any copy of a Project Gutenberg-tm work (any work on which the\\r\\nphrase \"Project Gutenberg\" appears, or with which the phrase \"Project\\r\\nGutenberg\" is associated) is accessed, displayed, performed, viewed,\\r\\ncopied or distributed:\\r\\n\\r\\n  This eBook is for the use of anyone anywhere in the United States and\\r\\n  most other parts of the world at no cost and with almost no\\r\\n  restrictions whatsoever. You may copy it, give it away or re-use it\\r\\n  under the terms of the Project Gutenberg License included with this\\r\\n  eBook or online at www.gutenberg.org. If you are not located in the\\r\\n  United States, you’ll have to check the laws of the country where you\\r\\n  are located before using this ebook.\\r\\n\\r\\n1.E.2. If an individual Project Gutenberg-tm electronic work is derived\\r\\nfrom texts not protected by U.S. copyright law (does not contain a\\r\\nnotice indicating that it is posted with permission of the copyright\\r\\nholder), the work can be copied and distributed to anyone in the United\\r\\nStates without paying any fees or charges. If you are redistributing or\\r\\nproviding access to a work with the phrase \"Project Gutenberg\"\\r\\nassociated with or appearing on the work, you must comply either with\\r\\nthe requirements of paragraphs 1.E.1 through 1.E.7 or obtain permission\\r\\nfor the use of the work and the Project Gutenberg-tm trademark as set\\r\\nforth in paragraphs 1.E.8 or 1.E.9.\\r\\n\\r\\n1.E.3. If an individual Project Gutenberg-tm electronic work is posted\\r\\nwith the permission of the copyright holder, your use and distribution\\r\\nmust comply with both paragraphs 1.E.1 through 1.E.7 and any additional\\r\\nterms imposed by the copyright holder. Additional terms will be linked\\r\\nto the Project Gutenberg-tm License for all works posted with the\\r\\npermission of the copyright holder found at the beginning of this work.\\r\\n\\r\\n1.E.4. Do not unlink or detach or remove the full Project Gutenberg-tm\\r\\nLicense terms from this work, or any files containing a part of this\\r\\nwork or any other work associated with Project Gutenberg-tm.\\r\\n\\r\\n1.E.5. Do not copy, display, perform, distribute or redistribute this\\r\\nelectronic work, or any part of this electronic work, without\\r\\nprominently displaying the sentence set forth in paragraph 1.E.1 with\\r\\nactive links or immediate access to the full terms of the Project\\r\\nGutenberg-tm License.\\r\\n\\r\\n1.E.6. You may convert to and distribute this work in any binary,\\r\\ncompressed, marked up, nonproprietary or proprietary form, including any\\r\\nword processing or hypertext form. However, if you provide access to or\\r\\ndistribute copies of a Project Gutenberg-tm work in a format other than\\r\\n\"Plain Vanilla ASCII\" or other format used in the official version\\r\\nposted on the official Project Gutenberg-tm web site\\r\\n(www.gutenberg.org), you must, at no additional cost, fee or expense to\\r\\nthe user, provide a copy, a means of exporting a copy, or a means of\\r\\nobtaining a copy upon request, of the work in its original \"Plain\\r\\nVanilla ASCII\" or other form. Any alternate format must include the full\\r\\nProject Gutenberg-tm License as specified in paragraph 1.E.1.\\r\\n\\r\\n1.E.7. Do not charge a fee for access to, viewing, displaying,\\r\\nperforming, copying or distributing any Project Gutenberg-tm works\\r\\nunless you comply with paragraph 1.E.8 or 1.E.9.\\r\\n\\r\\n1.E.8. You may charge a reasonable fee for copies of or providing access\\r\\nto or distributing Project Gutenberg-tm electronic works provided that\\r\\n\\r\\n* You pay a royalty fee of 20% of the gross profits you derive from the\\r\\nuse of Project Gutenberg-tm works calculated using the method you\\r\\nalready use to calculate your applicable taxes. The fee is owed to the\\r\\nowner of the Project Gutenberg-tm trademark, but he has agreed to donate\\r\\nroyalties under this paragraph to the Project Gutenberg Literary Archive\\r\\nFoundation. Royalty payments must be paid within 60 days following each\\r\\ndate on which you prepare (or are legally required to prepare) your\\r\\nperiodic tax returns. Royalty payments should be clearly marked as such\\r\\nand sent to the Project Gutenberg Literary Archive Foundation at the\\r\\naddress specified in Section 4, \"Information about donations to the\\r\\nProject Gutenberg Literary Archive Foundation.\"\\r\\n\\r\\n* You provide a full refund of any money paid by a user who notifies you\\r\\nin writing (or by e-mail) within 30 days of receipt that s/he does not\\r\\nagree to the terms of the full Project Gutenberg-tm License. You must\\r\\nrequire such a user to return or destroy all copies of the works\\r\\npossessed in a physical medium and discontinue all use of and all access\\r\\nto other copies of Project Gutenberg-tm works.\\r\\n\\r\\n* You provide, in accordance with paragraph 1.F.3, a full refund of any\\r\\nmoney paid for a work or a replacement copy, if a defect in the\\r\\nelectronic work is discovered and reported to you within 90 days of\\r\\nreceipt of the work.\\r\\n\\r\\n* You comply with all other terms of this agreement for free\\r\\ndistribution of Project Gutenberg-tm works.\\r\\n\\r\\n1.E.9. If you wish to charge a fee or distribute a Project Gutenberg-tm\\r\\nelectronic work or group of works on different terms than are set forth\\r\\nin this agreement, you must obtain permission in writing from both the\\r\\nProject Gutenberg Literary Archive Foundation and The Project Gutenberg\\r\\nTrademark LLC, the owner of the Project Gutenberg-tm trademark. Contact\\r\\nthe Foundation as set forth in Section 3 below.\\r\\n\\r\\n1.F.\\r\\n\\r\\n1.F.1. Project Gutenberg volunteers and employees expend considerable\\r\\neffort to identify, do copyright research on, transcribe and proofread\\r\\nworks not protected by U.S. copyright law in creating the Project\\r\\nGutenberg-tm collection. Despite these efforts, Project Gutenberg-tm\\r\\nelectronic works, and the medium on which they may be stored, may\\r\\ncontain \"Defects,\" such as, but not limited to, incomplete, inaccurate\\r\\nor corrupt data, transcription errors, a copyright or other intellectual\\r\\nproperty infringement, a defective or damaged disk or other medium, a\\r\\ncomputer virus, or computer codes that damage or cannot be read by your\\r\\nequipment.\\r\\n\\r\\n1.F.2. LIMITED WARRANTY, DISCLAIMER OF DAMAGES - Except for the \"Right\\r\\nof Replacement or Refund\" described in paragraph 1.F.3, the Project\\r\\nGutenberg Literary Archive Foundation, the owner of the Project\\r\\nGutenberg-tm trademark, and any other party distributing a Project\\r\\nGutenberg-tm electronic work under this agreement, disclaim all\\r\\nliability to you for damages, costs and expenses, including legal fees.\\r\\nYOU AGREE THAT YOU HAVE NO REMEDIES FOR NEGLIGENCE, STRICT LIABILITY,\\r\\nBREACH OF WARRANTY OR BREACH OF CONTRACT EXCEPT THOSE PROVIDED IN\\r\\nPARAGRAPH 1.F.3. YOU AGREE THAT THE FOUNDATION, THE TRADEMARK OWNER, AND\\r\\nANY DISTRIBUTOR UNDER THIS AGREEMENT WILL NOT BE LIABLE TO YOU FOR\\r\\nACTUAL, DIRECT, INDIRECT, CONSEQUENTIAL, PUNITIVE OR INCIDENTAL DAMAGES\\r\\nEVEN IF YOU GIVE NOTICE OF THE POSSIBILITY OF SUCH DAMAGE.\\r\\n\\r\\n1.F.3. LIMITED RIGHT OF REPLACEMENT OR REFUND - If you discover a defect\\r\\nin this electronic work within 90 days of receiving it, you can receive\\r\\na refund of the money (if any) you paid for it by sending a written\\r\\nexplanation to the person you received the work from. If you received\\r\\nthe work on a physical medium, you must return the medium with your\\r\\nwritten explanation. The person or entity that provided you with the\\r\\ndefective work may elect to provide a replacement copy in lieu of a\\r\\nrefund. If you received the work electronically, the person or entity\\r\\nproviding it to you may choose to give you a second opportunity to\\r\\nreceive the work electronically in lieu of a refund. If the second copy\\r\\nis also defective, you may demand a refund in writing without further\\r\\nopportunities to fix the problem.\\r\\n\\r\\n1.F.4. Except for the limited right of replacement or refund set forth\\r\\nin paragraph 1.F.3, this work is provided to you ’AS-IS’, WITH NO\\r\\nOTHER\\r\\nWARRANTIES OF ANY KIND, EXPRESS OR IMPLIED, INCLUDING BUT NOT LIMITED TO\\r\\nWARRANTIES OF MERCHANTABILITY OR FITNESS FOR ANY PURPOSE.\\r\\n\\r\\n1.F.5. Some states do not allow disclaimers of certain implied\\r\\nwarranties or the exclusion or limitation of certain types of damages.\\r\\nIf any disclaimer or limitation set forth in this agreement violates the\\r\\nlaw of the state applicable to this agreement, the agreement shall be\\r\\ninterpreted to make the maximum disclaimer or limitation permitted by\\r\\nthe applicable state law. The invalidity or unenforceability of any\\r\\nprovision of this agreement shall not void the remaining provisions.\\r\\n\\r\\n1.F.6. INDEMNITY - You agree to indemnify and hold the Foundation, the\\r\\ntrademark owner, any agent or employee of the Foundation, anyone\\r\\nproviding copies of Project Gutenberg-tm electronic works in accordance\\r\\nwith this agreement, and any volunteers associated with the production,\\r\\npromotion and distribution of Project Gutenberg-tm electronic works,\\r\\nharmless from all liability, costs and expenses, including legal fees,\\r\\nthat arise directly or indirectly from any of the following which you do\\r\\nor cause to occur: (a) distribution of this or any Project Gutenberg-tm\\r\\nwork, (b) alteration, modification, or additions or deletions to any\\r\\nProject Gutenberg-tm work, and (c) any Defect you cause.\\r\\n\\r\\nSection 2. Information about the Mission of Project Gutenberg-tm\\r\\n\\r\\nProject Gutenberg-tm is synonymous with the free distribution of\\r\\nelectronic works in formats readable by the widest variety of computers\\r\\nincluding obsolete, old, middle-aged and new computers. It exists\\r\\nbecause of the efforts of hundreds of volunteers and donations from\\r\\npeople in all walks of life.\\r\\n\\r\\nVolunteers and financial support to provide volunteers with the\\r\\nassistance they need are critical to reaching Project Gutenberg-tm’s\\r\\ngoals and ensuring that the Project Gutenberg-tm collection will remain\\r\\nfreely available for generations to come. In 2001, the Project Gutenberg\\r\\nLiterary Archive Foundation was created to provide a secure and\\r\\npermanent future for Project Gutenberg-tm and future generations. To\\r\\nlearn more about the Project Gutenberg Literary Archive Foundation and\\r\\nhow your efforts and donations can help, see Sections 3 and 4 and the\\r\\nFoundation information page at www.gutenberg.org Section 3. Information\\r\\nabout the Project Gutenberg Literary Archive Foundation\\r\\n\\r\\nThe Project Gutenberg Literary Archive Foundation is a non profit\\r\\n501(c)(3) educational corporation organized under the laws of the state\\r\\nof Mississippi and granted tax exempt status by the Internal Revenue\\r\\nService. The Foundation’s EIN or federal tax identification number is\\r\\n64-6221541. Contributions to the Project Gutenberg Literary Archive\\r\\nFoundation are tax deductible to the full extent permitted by U.S.\\r\\nfederal laws and your state’s laws.\\r\\n\\r\\nThe Foundation’s principal office is in Fairbanks, Alaska, with the\\r\\nmailing address: PO Box 750175, Fairbanks, AK 99775, but its volunteers\\r\\nand employees are scattered throughout numerous locations. Its business\\r\\noffice is located at 809 North 1500 West, Salt Lake City, UT 84116,\\r\\n(801) 596-1887. Email contact links and up to date contact information\\r\\ncan be found at the Foundation’s web site and official page at\\r\\nwww.gutenberg.org/contact\\r\\n\\r\\nFor additional contact information:\\r\\n\\r\\n    Dr. Gregory B. Newby Chief Executive and Director gbnewby@pglaf.org\\r\\n\\r\\nSection 4. Information about Donations to the Project Gutenberg Literary\\r\\nArchive Foundation\\r\\n\\r\\nProject Gutenberg-tm depends upon and cannot survive without wide spread\\r\\npublic support and donations to carry out its mission of increasing the\\r\\nnumber of public domain and licensed works that can be freely\\r\\ndistributed in machine readable form accessible by the widest array of\\r\\nequipment including outdated equipment. Many small donations ($1 to\\r\\n$5,000) are particularly important to maintaining tax exempt status with\\r\\nthe IRS.\\r\\n\\r\\nThe Foundation is committed to complying with the laws regulating\\r\\ncharities and charitable donations in all 50 states of the United\\r\\nStates. Compliance requirements are not uniform and it takes a\\r\\nconsiderable effort, much paperwork and many fees to meet and keep up\\r\\nwith these requirements. We do not solicit donations in locations where\\r\\nwe have not received written confirmation of compliance. To SEND\\r\\nDONATIONS or determine the status of compliance for any particular state\\r\\nvisit www.gutenberg.org/donate\\r\\n\\r\\nWhile we cannot and do not solicit contributions from states where we\\r\\nhave not met the solicitation requirements, we know of no prohibition\\r\\nagainst accepting unsolicited donations from donors in such states who\\r\\napproach us with offers to donate.\\r\\n\\r\\nInternational donations are gratefully accepted, but we cannot make any\\r\\nstatements concerning tax treatment of donations received from outside\\r\\nthe United States. U.S. laws alone swamp our small staff.\\r\\n\\r\\nPlease check the Project Gutenberg Web pages for current donation\\r\\nmethods and addresses. Donations are accepted in a number of other ways\\r\\nincluding checks, online payments and credit card donations. To donate,\\r\\nplease visit: www.gutenberg.org/donate\\r\\n\\r\\nSection 5. General Information About Project Gutenberg-tm electronic\\r\\nworks.\\r\\n\\r\\nProfessor Michael S. Hart was the originator of the Project Gutenberg-tm\\r\\nconcept of a library of electronic works that could be freely shared\\r\\nwith anyone. For forty years, he produced and distributed Project\\r\\nGutenberg-tm eBooks with only a loose network of volunteer support.\\r\\n\\r\\nProject Gutenberg-tm eBooks are often created from several printed\\r\\neditions, all of which are confirmed as not protected by copyright in\\r\\nthe U.S. unless a copyright notice is included. Thus, we do not\\r\\nnecessarily keep eBooks in compliance with any particular paper edition.\\r\\n\\r\\nMost people start at our Web site which has the main PG search facility:\\r\\nwww.gutenberg.org\\r\\n\\r\\nThis Web site includes information about Project Gutenberg-tm, including\\r\\nhow to make donations to the Project Gutenberg Literary Archive\\r\\nFoundation, how to help produce our new eBooks, and how to subscribe to\\r\\nour email newsletter to hear about new eBooks.\\r\\n\\r\\n\\r\\n\\r\\n\\r\\n\\r\\n\\r\\n\\r\\n\\r\\n\\r\\n\\r\\n'"
      ]
     },
     "execution_count": 3,
     "metadata": {},
     "output_type": "execute_result"
    }
   ],
   "source": [
    "data[-25000:]"
   ]
  },
  {
   "cell_type": "code",
   "execution_count": 4,
   "metadata": {},
   "outputs": [
    {
     "data": {
      "text/plain": [
       "5740053"
      ]
     },
     "execution_count": 4,
     "metadata": {},
     "output_type": "execute_result"
    }
   ],
   "source": [
    "len(data)"
   ]
  },
  {
   "cell_type": "code",
   "execution_count": 5,
   "metadata": {},
   "outputs": [
    {
     "data": {
      "text/plain": [
       "5717561"
      ]
     },
     "execution_count": 5,
     "metadata": {},
     "output_type": "execute_result"
    }
   ],
   "source": [
    "# clean up the text:\n",
    "# want everything between 'Contents' and 'finis'\n",
    "one_string = (str(data).split(\"Contents\\r\\n\\r\\n\\r\\n\\r\\n\", 1)[1]).split(\"FINIS\\r\\n\\r\\n\\r\\n\\r\\n\\r\\n\\r\\n\\r\\n\\r\\n\\r\\n\\r\\n\\r\\n\\r\\n\\r\\n\\r\", 1)[0]\n",
    "len(one_string)"
   ]
  },
  {
   "cell_type": "code",
   "execution_count": 6,
   "metadata": {},
   "outputs": [
    {
     "data": {
      "text/plain": [
       "' the stalk, and in the breach appears\\r\\n  Green-dropping sap, which she compares to tears.\\r\\n\\r\\n“Poor flower,” quoth she, “this was thy father’s guise,\\r\\nSweet issue of a more sweet-smelling sire,\\r\\nFor every little grief to wet his eyes,\\r\\nTo grow unto himself was his desire,                1180\\r\\n  And so ’tis thine; but know, it is as good\\r\\n  To wither in my breast as in his blood.\\r\\n\\r\\n“Here was thy father’s bed, here in my breast;\\r\\nThou art the next of blood, and ’tis thy right:     1184\\r\\nLo in this hollow cradle take thy rest,\\r\\nMy throbbing heart shall rock thee day and night:\\r\\n  There shall not be one minute in an hour\\r\\n  Wherein I will not kiss my sweet love’s flower.”\\r\\n\\r\\nThus weary of the world, away she hies,             1189\\r\\nAnd yokes her silver doves; by whose swift aid\\r\\nTheir mistress mounted through the empty skies,\\r\\nIn her light chariot quickly is convey’d;           1192\\r\\n  Holding their course to Paphos, where their queen\\r\\n  Means to immure herself and not be seen.\\r\\n\\r\\n\\r\\n\\r\\n\\r\\n  '"
      ]
     },
     "execution_count": 6,
     "metadata": {},
     "output_type": "execute_result"
    }
   ],
   "source": [
    "one_string[-1000:]"
   ]
  },
  {
   "cell_type": "code",
   "execution_count": 7,
   "metadata": {},
   "outputs": [
    {
     "data": {
      "text/plain": [
       "'               THE SONNETS\\r\\n\\r\\n               ALL’S WELL THAT ENDS WELL\\r\\n\\r\\n               THE TRAGEDY OF ANTONY AND CLEOPATRA\\r\\n\\r\\n               AS YOU LIKE IT\\r\\n\\r\\n               THE COMEDY OF ERRORS\\r\\n\\r\\n               THE TRAGEDY OF CORIOLANUS\\r\\n\\r\\n               CYMBELINE\\r\\n\\r\\n               THE TRAGEDY OF HAMLET, PRINCE OF DENMARK\\r\\n\\r\\n               THE FIRST PART OF KING HENRY THE FOURTH\\r\\n\\r\\n               THE SECOND PART OF KING HENRY THE FOURTH\\r\\n\\r\\n               THE LIFE OF KING HENRY THE FIFTH\\r\\n\\r\\n               THE FIRST PART OF HENRY THE SIXTH\\r\\n\\r\\n               THE SECOND PART OF KING HENRY THE SIXTH\\r\\n\\r\\n               THE THIRD PART OF KING HENRY THE SIXTH\\r\\n\\r\\n               KING HENRY THE EIGHTH\\r\\n\\r\\n               KING JOHN\\r\\n\\r\\n               THE TRAGEDY OF JULIUS CAESAR\\r\\n\\r\\n               THE TRAGEDY OF KING LEAR\\r\\n\\r\\n               LOVE’S LABOUR’S LOST\\r\\n\\r\\n               THE TRAGEDY OF MACBETH\\r\\n\\r\\n               MEASURE FOR MEASURE\\r\\n\\r\\n               THE MERCHANT OF VENICE\\r\\n\\r\\n               TH'"
      ]
     },
     "execution_count": 7,
     "metadata": {},
     "output_type": "execute_result"
    }
   ],
   "source": [
    "one_string[:1000]"
   ]
  },
  {
   "cell_type": "code",
   "execution_count": 8,
   "metadata": {},
   "outputs": [],
   "source": [
    "# encode data as chars:\n",
    "chars = list(set(one_string))\n",
    "\n",
    "char_int = {c:i for i,c in enumerate(chars)}\n",
    "int_char = {i:c for i,c in enumerate(chars)}"
   ]
  },
  {
   "cell_type": "code",
   "execution_count": 9,
   "metadata": {},
   "outputs": [
    {
     "data": {
      "text/plain": [
       "102"
      ]
     },
     "execution_count": 9,
     "metadata": {},
     "output_type": "execute_result"
    }
   ],
   "source": [
    "len(chars)"
   ]
  },
  {
   "cell_type": "code",
   "execution_count": 10,
   "metadata": {},
   "outputs": [
    {
     "name": "stdout",
     "output_type": "stream",
     "text": [
      "sequences: 1143505\n"
     ]
    }
   ],
   "source": [
    "# create sequence data:\n",
    "maxlen = 40\n",
    "step = 5\n",
    "\n",
    "encoded = [char_int[c] for c in one_string]\n",
    "\n",
    "sequences = []\n",
    "next_chars = []\n",
    "\n",
    "for i in range(0, len(encoded) - maxlen, step):\n",
    "    sequences.append(encoded[i : i + maxlen])\n",
    "    next_chars.append(encoded[i + maxlen])\n",
    "    \n",
    "print('sequences:', len(sequences))"
   ]
  },
  {
   "cell_type": "code",
   "execution_count": 11,
   "metadata": {},
   "outputs": [],
   "source": [
    "# specify x & y:\n",
    "import numpy as np\n",
    "x = np.zeros((len(sequences), maxlen, len(chars)), dtype=np.bool)\n",
    "y = np.zeros((len(sequences), len(chars)), dtype=np.bool)\n",
    "\n",
    "for i, sequence in enumerate(sequences):\n",
    "    for t, char in enumerate(sequence):\n",
    "        x[i,t,char] = 1\n",
    "        \n",
    "    y[i, next_chars[i]] = 1"
   ]
  },
  {
   "cell_type": "code",
   "execution_count": 12,
   "metadata": {},
   "outputs": [
    {
     "data": {
      "text/plain": [
       "((1143505, 40, 102), (1143505, 102))"
      ]
     },
     "execution_count": 12,
     "metadata": {},
     "output_type": "execute_result"
    }
   ],
   "source": [
    "x.shape, y.shape"
   ]
  },
  {
   "cell_type": "code",
   "execution_count": 13,
   "metadata": {},
   "outputs": [],
   "source": [
    "import warnings\n",
    "warnings.filterwarnings(\"ignore\")"
   ]
  },
  {
   "cell_type": "code",
   "execution_count": 14,
   "metadata": {},
   "outputs": [
    {
     "name": "stdout",
     "output_type": "stream",
     "text": [
      "WARNING:tensorflow:From /Users/maggie/opt/anaconda3/envs/U4-S3-Deep-Learning/lib/python3.7/site-packages/tensorflow/python/ops/resource_variable_ops.py:435: colocate_with (from tensorflow.python.framework.ops) is deprecated and will be removed in a future version.\n",
      "Instructions for updating:\n",
      "Colocations handled automatically by placer.\n"
     ]
    }
   ],
   "source": [
    "# build model:\n",
    "from tensorflow.keras.callbacks import LambdaCallback\n",
    "from tensorflow.keras.models import Sequential\n",
    "from tensorflow.keras.layers import Dense, LSTM\n",
    "\n",
    "import numpy as np\n",
    "import random\n",
    "import sys\n",
    "import os\n",
    "\n",
    "\n",
    "model = Sequential()\n",
    "model.add(LSTM(128, input_shape=(maxlen, len(chars))))\n",
    "model.add(Dense(len(chars), activation='softmax'))\n",
    "\n",
    "model.compile(loss='categorical_crossentropy', optimizer='adam')"
   ]
  },
  {
   "cell_type": "code",
   "execution_count": 15,
   "metadata": {},
   "outputs": [],
   "source": [
    "def sample(preds, temperature=1.0):\n",
    "    # helper function to sample an index from a probability array\n",
    "    preds = np.asarray(preds).astype('float64')\n",
    "    preds = np.log(preds) / temperature\n",
    "    exp_preds = np.exp(preds)\n",
    "    preds = exp_preds / np.sum(exp_preds)\n",
    "    probas = np.random.multinomial(1, preds, 1)\n",
    "    return np.argmax(probas)"
   ]
  },
  {
   "cell_type": "code",
   "execution_count": 16,
   "metadata": {},
   "outputs": [],
   "source": [
    "def on_epoch_end(epoch, _):\n",
    "    # Function invoked at end of each epoch. Prints generated text.\n",
    "    print()\n",
    "    print('----- Generating text after Epoch: %d' % epoch)\n",
    "\n",
    "    start_index = random.randint(0, len(one_string) - maxlen - 1)\n",
    "    for diversity in [0.2, 0.5, 1.0, 1.2]:\n",
    "        print('----- diversity:', diversity)\n",
    "\n",
    "        generated = ''\n",
    "        sentence = one_string[start_index: start_index + maxlen]\n",
    "        generated += sentence\n",
    "        print('----- Generating with seed: \"' + sentence + '\"')\n",
    "        sys.stdout.write(generated)\n",
    "\n",
    "        for i in range(400):\n",
    "            x_pred = np.zeros((1, maxlen, len(chars)))\n",
    "            for t, char in enumerate(sentence):\n",
    "                x_pred[0, t, char_int[char]] = 1.\n",
    "\n",
    "            preds = model.predict(x_pred, verbose=0)[0]\n",
    "            next_index = sample(preds, diversity)\n",
    "            next_char = int_char[next_index]\n",
    "\n",
    "            sentence = sentence[1:] + next_char\n",
    "\n",
    "            sys.stdout.write(next_char)\n",
    "            sys.stdout.flush()\n",
    "        print()\n",
    "\n",
    "print_callback = LambdaCallback(on_epoch_end=on_epoch_end)"
   ]
  },
  {
   "cell_type": "code",
   "execution_count": 17,
   "metadata": {},
   "outputs": [
    {
     "name": "stdout",
     "output_type": "stream",
     "text": [
      "WARNING:tensorflow:From /Users/maggie/opt/anaconda3/envs/U4-S3-Deep-Learning/lib/python3.7/site-packages/tensorflow/python/ops/math_ops.py:3066: to_int32 (from tensorflow.python.ops.math_ops) is deprecated and will be removed in a future version.\n",
      "Instructions for updating:\n",
      "Use tf.cast instead.\n",
      "Epoch 1/5\n",
      "1143488/1143505 [============================>.] - ETA: 0s - loss: 2.0115\n",
      "----- Generating text after Epoch: 0\n",
      "----- diversity: 0.2\n",
      "----- Generating with seed: \"ing.\n",
      "  KING HENRY. Henry the Fourth by \"\n",
      "ing.\n",
      "  KING HENRY. Henry the Fourth by the conters the sone and the sone and the sone and the sond.\n",
      "\n",
      "                                                                                                                                                                                                                                                                                                                                                \n",
      "----- diversity: 0.5\n",
      "----- Generating with seed: \"ing.\n",
      "  KING HENRY. Henry the Fourth by \"\n",
      "ing.\n",
      "  KING HENRY. Henry the Fourth by his a word with, what when the gray,\n",
      "    So pone the sirce handels of the bester.\n",
      "\n",
      "                                                                                                                                                                                                                                                                                                                          \n",
      "----- diversity: 1.0\n",
      "----- Generating with seed: \"ing.\n",
      "  KING HENRY. Henry the Fourth by \"\n",
      "ing.\n",
      "  KING HENRY. Henry the Fourth by the soor lobld,\n",
      "Thee but my lock 'nother good mestimes.\n",
      "    O Duspuctless, and lead your bay. SEATBETK\n",
      "For, a thouther thy facters a spile;. Scontlema.\n",
      "\n",
      "EROUCLEDO.\n",
      "How to but in have dead to be deat to hore bus;\n",
      "    Waraty arr ade done for the cours; that, now?\n",
      "Pamen of, lordss my lave hime of my putped nazurly, VIob,\n",
      "    Doot on head.\n",
      "\n",
      "   Exeunt\n",
      "\n",
      "CAPONCTHANRBANIO.\n",
      "Ha hat, how dod no\n",
      "----- diversity: 1.2\n",
      "----- Generating with seed: \"ing.\n",
      "  KING HENRY. Henry the Fourth by \"\n",
      "ing.\n",
      "  KING HENRY. Henry the Fourth by unprrefcor’d boa: dots lot;\n",
      "  MoLa!\n",
      "\n",
      "APII'S. Nary agais! peas prowndy, thue iset it zest. SIOd. That. Be'ect that him shaulthoun, and duconh'ly\n",
      "    And my pray, at like comsser rust.\n",
      "    Trage't greacly; the matsed's frents arrenafo,\n",
      "The has acticivied by Conee, the my ame,\n",
      "    And that me herseronf.\n",
      "That surm, in presbar'd yougs 'no! ATSting'd sUSTYo.\n",
      "Th’s be the soamter beon you\n",
      "    ar\n",
      "1143505/1143505 [==============================] - 1269s 1ms/sample - loss: 2.0115\n",
      "Epoch 2/5\n",
      "1143488/1143505 [============================>.] - ETA: 0s - loss: 1.6837\n",
      "----- Generating text after Epoch: 1\n",
      "----- diversity: 0.2\n",
      "----- Generating with seed: \"tily; and that's not good.\n",
      "  ISABELLA. \"\n",
      "tily; and that's not good.\n",
      "  ISABELLA. What you she are the comes and a for your will of the fall of the streed.\n",
      "    The streen the love the streed the man of the hands\n",
      "    The stree the grees of the will of the man of his his are should not the sone.\n",
      "    The fire the streed the streed the stranger.\n",
      "    The prome of a strong the string the store of my sore of the hand,\n",
      "    The should with the man of the streed the father of his a \n",
      "----- diversity: 0.5\n",
      "----- Generating with seed: \"tily; and that's not good.\n",
      "  ISABELLA. \"\n",
      "tily; and that's not good.\n",
      "  ISABELLA. Well, he had me a bespers with most paseet.\n",
      "    Brow thou heart she so hour and the rest\n",
      "                                                                              Exit\n",
      "\n",
      "                                                                                                             Exeunt\n",
      "  StOLE MENTER GOTHARD HELLUS OF  This of him.\n",
      "\n",
      " [_Exit the Tro Empente.\n",
      "\n",
      "SIR WOLK.\n",
      "I do you the love\n",
      "----- diversity: 1.0\n",
      "----- Generating with seed: \"tily; and that's not good.\n",
      "  ISABELLA. \"\n",
      "tily; and that's not good.\n",
      "  ISABELLA. Wad.\n",
      "  WUCTIO. Then I brice neers till pison and natire in new,\n",
      "    Whinh were corrows he had and comp of the lipe,\n",
      "    How impoling hach you queent tied fellod freee.\n",
      "Threas fere bevisos me kind, not bring athort armon’d in blease commad\n",
      "    To a bevy deamones, agonongush, take to you.\n",
      "  ATHENGOR. O, I can chows not where yous armone of Brung,\n",
      "    Sere of welds of unswill when we tear.\n",
      "“'\n",
      "----- diversity: 1.2\n",
      "----- Generating with seed: \"tily; and that's not good.\n",
      "  ISABELLA. \"\n",
      "tily; and that's not good.\n",
      "  ISABELLA. Cave\n",
      "Ye’s in sow.\n",
      "  FALUSPE. Ayare no,\n",
      "All makes. And, it my hearth beanine. Which! Though sper in’t mirg'd mad'st me,\n",
      "    Green Verck. The I she fill you thad I\n",
      "      fays man.\n",
      "\n",
      "TANTHARO.\n",
      "Majestens come ary with Knon Gods do,\n",
      "Shes brectioms\n",
      "The that chais' or ove. DeVdovant,\n",
      "And dotine? Acchatil’s on hato a dagain and she.\n",
      "Then JAhishes, whichlands any!s is (yop\n",
      "    Miships by no qua\n",
      "1143505/1143505 [==============================] - 1498s 1ms/sample - loss: 1.6837\n",
      "Epoch 3/5\n",
      "1143488/1143505 [============================>.] - ETA: 0s - loss: 1.5874\n",
      "----- Generating text after Epoch: 2\n",
      "----- diversity: 0.2\n",
      "----- Generating with seed: \"\n",
      "This infant warrior, in his enterprises\"\n",
      "\n",
      "This infant warrior, in his enterprises\n",
      "    And the comes the world of the stand the lords\n",
      "    And the confesse the stand of the part of the stand thee,\n",
      "    In the with the procestant of the confessed\n",
      "    The love the company and the fair and the confessed\n",
      "    I was the protion the comes the worlds\n",
      "    The streath the stranger the streather the danger\n",
      "    And hear the charge of the stand the store the comes\n",
      "    And the strange \n",
      "----- diversity: 0.5\n",
      "----- Generating with seed: \"\n",
      "This infant warrior, in his enterprises\"\n",
      "\n",
      "This infant warrior, in his enterprises the stand.\n",
      "  ROSELIND. Is this shall he will the livery brother she protayer\n",
      "    I cannot be profes of the man like her prace on the country at inderment\n",
      "    The marry and speak father to her bring,\n",
      "That rest the stappered all the King to be too heart,\n",
      "    And for the world in the counterded come,\n",
      "    And shall not shall hear device have be my bare beach,\n",
      "    But are you this great to him.\n",
      "----- diversity: 1.0\n",
      "----- Generating with seed: \"\n",
      "This infant warrior, in his enterprises\"\n",
      "\n",
      "This infant warrior, in his enterprises with pinst, by thou but in tho feed?\n",
      "\n",
      "\n",
      "      BENETICK.\n",
      "  Which yet you ever brostal sway, what with petter gorned unto these wacles and,\n",
      "And to let I will for yeatian us hath: sull the\n",
      "    As\n",
      "with rost compoite.\n",
      "  CLEOPLED. I thunk'd pourty wits is this carding of Gleass\n",
      "Is itsence honed is a stord the enrus'd\n",
      "Thene her what's-grace with do my maght.\n",
      "  GLOUCADERL. sent love when indeet\n",
      "----- diversity: 1.2\n",
      "----- Generating with seed: \"\n",
      "This infant warrior, in his enterprises\"\n",
      "\n",
      "This infant warrior, in his enterprisest of hised,\n",
      "That famed shement'd you.\n",
      "    And is you manne mikerpy ablies; misched here do!s wight turse,\n",
      "Trase want'd, sincomet in his by?\n",
      "  SRCOPPEI. Rewercomb of twensty salf-Earl, Kitow 'Jul hold\n",
      "The shalt,\n",
      "      Why pcices Upgo taking o'Ct word maken.\n",
      "By neight me but thou dear chrygemsty dead,\n",
      "    Babout her of euth.\n",
      "    And you was with yours. But grild assatchly tokue her\n",
      "Wolluri\n",
      "1143505/1143505 [==============================] - 1438s 1ms/sample - loss: 1.5874\n",
      "Epoch 4/5\n",
      "1143488/1143505 [============================>.] - ETA: 0s - loss: 1.5333\n",
      "----- Generating text after Epoch: 3\n",
      "----- diversity: 0.2\n",
      "----- Generating with seed: \"leap’d your father’s cow,\n",
      "      And got\"\n",
      "leap’d your father’s cow,\n",
      "      And got to the world of the world of the body.\n",
      "                                                                                                                                                                                                                                                                                                                                                                       \n",
      "----- diversity: 0.5\n",
      "----- Generating with seed: \"leap’d your father’s cow,\n",
      "      And got\"\n",
      "leap’d your father’s cow,\n",
      "      And got he should the winds to man. Heavend of the more.\n",
      "    But the purse of your lord.\n",
      "\n",
      "MARDICER.\n",
      "How for thou do thou have the base the ender.\n",
      "\n",
      " [_Exeunt._]\n",
      "\n",
      "SCENE VI. An I will dost to be is must be love,\n",
      "    The dreat hour passented it a carmmin, and sose would to the heart.\n",
      "\n",
      " [_Exit._]\n",
      "\n",
      "SCENE III. But in the most good of with our parts of forth,\n",
      "    Which is not to him. I will be more\n",
      "----- diversity: 1.0\n",
      "----- Generating with seed: \"leap’d your father’s cow,\n",
      "      And got\"\n",
      "leap’d your father’s cow,\n",
      "      And got abong's, near ild stimfer' freat,\n",
      "    With I a dat.\n",
      "\n",
      "KATHANIO.\n",
      "Combstiful mine arocken\n",
      "Consifflate, Lord Parcallus.\n",
      "\n",
      " [_Exet. O LIRAWER. He wils me sinesss all out.\n",
      "  YORK. Stage witly.\n",
      "\n",
      "PROTCUS.\n",
      "No defear'e now. Upon the stappias it.\n",
      "  ANTONY. My chird with must know she wan how, Frether’s holany, as I devilly hath desiess.\n",
      "  PAGE. It he! abter. Whele your hanting sem no rame the ne\n",
      "----- diversity: 1.2\n",
      "----- Generating with seed: \"leap’d your father’s cow,\n",
      "      And got\"\n",
      "leap’d your father’s cow,\n",
      "      And got us are I preccaty to him?\n",
      "\n",
      "                            [_Exeunt.__As]\n",
      "Pifes.\n",
      "\n",
      "SYRASBRASWA.\n",
      "Whils's whou ight miselling acclars; me kmine, and natury comes.\n",
      "  GLAUWICE. And she does, go elm hir conswarble servions;\n",
      "Coaren'd of, trixefor then hough-stire I sear in’t.\n",
      "\n",
      "PITANCA.\n",
      "Therade gied I shall conulongers, he vot Bromour,\n",
      "And wit follives, put me of privory.—sath canmon of not.\n",
      "  H\n",
      "1143505/1143505 [==============================] - 1330s 1ms/sample - loss: 1.5333\n",
      "Epoch 5/5\n",
      "1143488/1143505 [============================>.] - ETA: 0s - loss: 1.4987\n",
      "----- Generating text after Epoch: 4\n",
      "----- diversity: 0.2\n",
      "----- Generating with seed: \"’t. Ask me if I am a\n",
      "courtier; it shall\"\n",
      "’t. Ask me if I am a\n",
      "courtier; it shall the sour of the sense of the man\n",
      "    The strongs and the state and the court\n",
      "    And the state in the sea stand the state.\n",
      "    The love the sease and the state and the bears,\n",
      "    The livers for the son of the state and the rest to me,\n",
      "    The words the love the more to make the life.\n",
      "    That the state and the grace and the state,\n",
      "    The shall the sour of the love to the rest,\n",
      "    The se\n",
      "----- diversity: 0.5\n",
      "----- Generating with seed: \"’t. Ask me if I am a\n",
      "courtier; it shall\"\n",
      "’t. Ask me if I am a\n",
      "courtier; it shall sigh the string the terms.\n",
      "\n",
      "CLOWN.\n",
      "To my lord and have making to the god of the France to the mothie.\n",
      "    And am and shall the casten as of the truth\n",
      "    The come of this all the love, and the love, there were sented with the tongue\n",
      "In the beave, where thou words there be shall well your corrested to life be charge of\n",
      "his shumpes with rest and the temped and slip of the father me,\n",
      "    The\n",
      "----- diversity: 1.0\n",
      "----- Generating with seed: \"’t. Ask me if I am a\n",
      "courtier; it shall\"\n",
      "’t. Ask me if I am a\n",
      "courtier; it shall would to the love, and wind slaught bast\n",
      "To shrew?\n",
      "\n",
      "EFFOLM.\n",
      "The be keasentiols and purhast him reight,\n",
      " Am wrelk you, then, with me, and talk no live,\n",
      "    Purk'd Myselfo!\n",
      "Sluif, IIhive is truep the Exes, alasing you, wam if those by the report,\n",
      "    Without the recurier, for Euses is a miscy\n",
      "Tounds art of eitor. What not mark me morsurous mistres;\n",
      "Who may never be like to meriol much a\n",
      "\n",
      "----- diversity: 1.2\n",
      "----- Generating with seed: \"’t. Ask me if I am a\n",
      "courtier; it shall\"\n",
      "’t. Ask me if I am a\n",
      "courtier; it shall flie anine, and, truts an inmoclor,\n",
      "    For lover let her Gloucitable as at receet besixa.\n",
      "\n",
      " [_Proy._]\n",
      "Sant fell'd we love, invatuets must in so.\n",
      "  ANGELO.    MARINCE.  [Aside_]  Would I, thou alinchusce fell?\n",
      "Dear Voatesmy.’\n",
      " \n",
      "SYMERGES.\n",
      "I\n",
      "can our rathers and grow remain'd person afimels\n",
      "Thou no pooselve see hate again of Romal\n",
      "buchos, nightly shall have mined in once;\n",
      "    Whilsa’s, \n",
      "1143505/1143505 [==============================] - 1403s 1ms/sample - loss: 1.4987\n"
     ]
    },
    {
     "data": {
      "text/plain": [
       "<tensorflow.python.keras.callbacks.History at 0x1173599b00>"
      ]
     },
     "execution_count": 17,
     "metadata": {},
     "output_type": "execute_result"
    }
   ],
   "source": [
    "model.fit(x, y,\n",
    "          batch_size=64,\n",
    "          epochs=5,\n",
    "          callbacks=[print_callback])"
   ]
  },
  {
   "cell_type": "markdown",
   "metadata": {
    "colab_type": "text",
    "id": "zE4a4O7Bp5x1"
   },
   "source": [
    "# Resources and Stretch Goals"
   ]
  },
  {
   "cell_type": "markdown",
   "metadata": {
    "colab_type": "text",
    "id": "uT3UV3gap9H6"
   },
   "source": [
    "## Stretch goals:\n",
    "- Refine the training and generation of text to be able to ask for different genres/styles of Shakespearean text (e.g. plays versus sonnets)\n",
    "- Train a classification model that takes text and returns which work of Shakespeare it is most likely to be from\n",
    "- Make it more performant! Many possible routes here - lean on Keras, optimize the code, and/or use more resources (AWS, etc.)\n",
    "- Revisit the news example from class, and improve it - use categories or tags to refine the model/generation, or train a news classifier\n",
    "- Run on bigger, better data\n",
    "\n",
    "## Resources:\n",
    "- [The Unreasonable Effectiveness of Recurrent Neural Networks](https://karpathy.github.io/2015/05/21/rnn-effectiveness/) - a seminal writeup demonstrating a simple but effective character-level NLP RNN\n",
    "- [Simple NumPy implementation of RNN](https://github.com/JY-Yoon/RNN-Implementation-using-NumPy/blob/master/RNN%20Implementation%20using%20NumPy.ipynb) - Python 3 version of the code from \"Unreasonable Effectiveness\"\n",
    "- [TensorFlow RNN Tutorial](https://github.com/tensorflow/models/tree/master/tutorials/rnn) - code for training a RNN on the Penn Tree Bank language dataset\n",
    "- [4 part tutorial on RNN](http://www.wildml.com/2015/09/recurrent-neural-networks-tutorial-part-1-introduction-to-rnns/) - relates RNN to the vanishing gradient problem, and provides example implementation\n",
    "- [RNN training tips and tricks](https://github.com/karpathy/char-rnn#tips-and-tricks) - some rules of thumb for parameterizing and training your RNN"
   ]
  }
 ],
 "metadata": {
  "kernelspec": {
   "display_name": "U4-S3-DL (python 3)",
   "language": "python",
   "name": "u4-s3-deep-learning"
  },
  "language_info": {
   "codemirror_mode": {
    "name": "ipython",
    "version": 3
   },
   "file_extension": ".py",
   "mimetype": "text/x-python",
   "name": "python",
   "nbconvert_exporter": "python",
   "pygments_lexer": "ipython3",
   "version": "3.7.0"
  }
 },
 "nbformat": 4,
 "nbformat_minor": 4
}
